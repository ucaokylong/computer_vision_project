{
 "cells": [
  {
   "cell_type": "code",
   "execution_count": 3,
   "metadata": {},
   "outputs": [],
   "source": [
    "import numpy as np\n",
    "import cv2"
   ]
  },
  {
   "cell_type": "code",
   "execution_count": 4,
   "metadata": {},
   "outputs": [],
   "source": [
    "# load the image\n",
    "img = cv2.imread('./images/happy_parents.jpg')\n",
    "\n",
    "cv2.imshow('original',img)\n",
    "cv2.waitKey()\n",
    "cv2.destroyAllWindows()"
   ]
  },
  {
   "cell_type": "code",
   "execution_count": 5,
   "metadata": {},
   "outputs": [],
   "source": [
    "# load the face detection model\n",
    "face_detection_model = cv2.dnn.readNetFromCaffe('./model/deploy.prototxt.txt',\n",
    "                                                './model/res10_300x300_ssd_iter_140000_fp16.caffemodel')"
   ]
  },
  {
   "cell_type": "code",
   "execution_count": 6,
   "metadata": {},
   "outputs": [],
   "source": [
    "def face_blur(img):\n",
    "    # blob from image\n",
    "    image = img.copy()\n",
    "    # mask image\n",
    "    face_mask = np.zeros(image.shape[:2],dtype='uint8') # 2-d (grayscale)\n",
    "\n",
    "\n",
    "    blob = cv2.dnn.blobFromImage(image,1,(300,300),(104,177,123),swapRB=True)\n",
    "    face_detection_model.setInput(blob)\n",
    "    detections = face_detection_model.forward()\n",
    "\n",
    "    h,w = image.shape[:2]\n",
    "    for i in range(detections.shape[2]):\n",
    "        confidence = detections[0,0,i,2]\n",
    "        if confidence > 0.5:\n",
    "            box = detections[0,0,i,3:7]*np.array([w,h,w,h])\n",
    "            box = box.astype(int)\n",
    "            cv2.rectangle(face_mask,(box[0],box[1]),(box[2],box[3]),255,-1)\n",
    "\n",
    "\n",
    "    inv_face_mask = cv2.bitwise_not(face_mask)\n",
    "    # step-3: apply mask image to original image\n",
    "    bg_img = cv2.bitwise_and(image,image,mask=face_mask)\n",
    "    fg_img = cv2.bitwise_and(image,image,mask=inv_face_mask)\n",
    "    # step-4: Blur bg_img with Gaussian blur\n",
    "    bg_img_blur = cv2.GaussianBlur(bg_img,(51,51),0)\n",
    "    # step-5: addition\n",
    "    face_blur = cv2.add(fg_img,bg_img_blur)\n",
    "    \n",
    "    return face_blur\n"
   ]
  },
  {
   "cell_type": "code",
   "execution_count": 7,
   "metadata": {},
   "outputs": [],
   "source": [
    "blur_img = face_blur(img)\n",
    "\n",
    "cv2.imshow('original',img)\n",
    "cv2.imshow('Face Blur',blur_img)\n",
    "cv2.waitKey()\n",
    "cv2.destroyAllWindows()"
   ]
  },
  {
   "cell_type": "code",
   "execution_count": null,
   "metadata": {},
   "outputs": [],
   "source": []
  },
  {
   "cell_type": "code",
   "execution_count": null,
   "metadata": {},
   "outputs": [],
   "source": []
  },
  {
   "cell_type": "code",
   "execution_count": null,
   "metadata": {},
   "outputs": [],
   "source": []
  },
  {
   "cell_type": "code",
   "execution_count": null,
   "metadata": {},
   "outputs": [],
   "source": []
  },
  {
   "cell_type": "code",
   "execution_count": null,
   "metadata": {},
   "outputs": [],
   "source": []
  },
  {
   "cell_type": "code",
   "execution_count": null,
   "metadata": {},
   "outputs": [],
   "source": []
  },
  {
   "cell_type": "code",
   "execution_count": null,
   "metadata": {},
   "outputs": [],
   "source": []
  },
  {
   "cell_type": "code",
   "execution_count": null,
   "metadata": {},
   "outputs": [],
   "source": []
  },
  {
   "cell_type": "code",
   "execution_count": null,
   "metadata": {},
   "outputs": [],
   "source": []
  },
  {
   "cell_type": "code",
   "execution_count": null,
   "metadata": {},
   "outputs": [],
   "source": []
  },
  {
   "cell_type": "code",
   "execution_count": null,
   "metadata": {},
   "outputs": [],
   "source": []
  },
  {
   "cell_type": "code",
   "execution_count": null,
   "metadata": {},
   "outputs": [],
   "source": []
  },
  {
   "cell_type": "code",
   "execution_count": null,
   "metadata": {},
   "outputs": [],
   "source": []
  },
  {
   "cell_type": "code",
   "execution_count": null,
   "metadata": {},
   "outputs": [],
   "source": []
  },
  {
   "cell_type": "code",
   "execution_count": null,
   "metadata": {},
   "outputs": [],
   "source": []
  },
  {
   "cell_type": "code",
   "execution_count": null,
   "metadata": {},
   "outputs": [],
   "source": []
  },
  {
   "cell_type": "code",
   "execution_count": null,
   "metadata": {},
   "outputs": [],
   "source": []
  },
  {
   "cell_type": "code",
   "execution_count": null,
   "metadata": {},
   "outputs": [],
   "source": []
  },
  {
   "cell_type": "code",
   "execution_count": null,
   "metadata": {},
   "outputs": [],
   "source": []
  },
  {
   "cell_type": "code",
   "execution_count": null,
   "metadata": {},
   "outputs": [],
   "source": []
  },
  {
   "cell_type": "code",
   "execution_count": null,
   "metadata": {},
   "outputs": [],
   "source": []
  }
 ],
 "metadata": {
  "kernelspec": {
   "display_name": "Python 3 (ipykernel)",
   "language": "python",
   "name": "python3"
  },
  "language_info": {
   "codemirror_mode": {
    "name": "ipython",
    "version": 3
   },
   "file_extension": ".py",
   "mimetype": "text/x-python",
   "name": "python",
   "nbconvert_exporter": "python",
   "pygments_lexer": "ipython3",
   "version": "3.10.4"
  }
 },
 "nbformat": 4,
 "nbformat_minor": 4
}
