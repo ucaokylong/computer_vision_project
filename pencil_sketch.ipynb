{
 "cells": [
  {
   "cell_type": "markdown",
   "metadata": {},
   "source": []
  },
  {
   "cell_type": "code",
   "execution_count": 1,
   "metadata": {},
   "outputs": [],
   "source": [
    "import numpy as np\n",
    "import cv2"
   ]
  },
  {
   "cell_type": "code",
   "execution_count": 2,
   "metadata": {},
   "outputs": [],
   "source": [
    "# load the image\n",
    "img = cv2.imread('./images/friends.jpg')\n",
    "\n",
    "cv2.imshow('original',img)\n",
    "cv2.waitKey()\n",
    "cv2.destroyAllWindows()"
   ]
  },
  {
   "cell_type": "markdown",
   "metadata": {},
   "source": [
    "![image](images/pencil_sketch_flow.PNG)"
   ]
  },
  {
   "cell_type": "code",
   "execution_count": 17,
   "metadata": {},
   "outputs": [],
   "source": [
    "def pencil_sketch(img,ksize,gamma):\n",
    "    # step-1 convert image into grayscale\n",
    "    gray = cv2.cvtColor(img,cv2.COLOR_BGR2GRAY)\n",
    "    # step-2: apply gaussian blur to the image\n",
    "    blur = cv2.GaussianBlur(gray,(ksize,ksize),0)\n",
    "    # step-3: division image\n",
    "    division_img = cv2.divide(gray,blur,scale=256)\n",
    "    # step-4: adjusting gamma factor\n",
    "    if gamma == 0:\n",
    "        gamma = 0.01\n",
    "        \n",
    "    elif gamma < 0:\n",
    "        raise Exception('Cannot Be Negative','Gamma value cannot be negative number (range = 0-1)')\n",
    "        \n",
    "    elif gamma > 1:\n",
    "        raise Exception('Cannot be greater than 1','Gamma value cannot greater than 1 (range = 0-1)')\n",
    "\n",
    "    invgamma = 1/gamma\n",
    "    lut = np.array([((i/255)**invgamma)*255 for i in range(0,256)])\n",
    "    pencil_sketch_img = cv2.LUT(division_img.astype('uint8'),\n",
    "                                lut.astype('uint8'))\n",
    "    \n",
    "    return pencil_sketch_img"
   ]
  },
  {
   "cell_type": "code",
   "execution_count": 4,
   "metadata": {},
   "outputs": [],
   "source": [
    "pencil_img = pencil_sketch(img,7,0.3)"
   ]
  },
  {
   "cell_type": "code",
   "execution_count": 6,
   "metadata": {},
   "outputs": [],
   "source": [
    "cv2.imshow('orignial',img)\n",
    "cv2.imshow('Pencil Sketch',pencil_img)\n",
    "\n",
    "cv2.waitKey()\n",
    "cv2.destroyAllWindows()"
   ]
  },
  {
   "cell_type": "markdown",
   "metadata": {},
   "source": [
    "## GUI for Pencil Sketch"
   ]
  },
  {
   "cell_type": "code",
   "execution_count": 20,
   "metadata": {},
   "outputs": [],
   "source": [
    "image = cv2.imread('./images/Avengers-Endgame.png')\n",
    "\n",
    "# create control pannel\n",
    "cv2.namedWindow('Control Pannel')\n",
    "cv2.createTrackbar('ksize','Control Pannel',1,100,(lambda x:None))\n",
    "cv2.createTrackbar('gamma','Control Pannel',1,100,(lambda x:None))\n",
    "\n",
    "while True:\n",
    "    \n",
    "    # take k-size\n",
    "    k = cv2.getTrackbarPos('ksize','Control Pannel')\n",
    "    # k size should be an odd number\n",
    "    k = 2*k + 1\n",
    "    # calibrate gamma to 0 - 1 scale\n",
    "    g = cv2.getTrackbarPos('gamma','Control Pannel')\n",
    "    g = g/100\n",
    "    pencil_img = pencil_sketch(image,k,g)\n",
    "    \n",
    "    \n",
    "    cv2.imshow('original',image)\n",
    "    cv2.imshow('Pencil Sketch',pencil_img)\n",
    "    if cv2.waitKey(1) == 27:\n",
    "        break\n",
    "\n",
    "cv2.destroyAllWindows()"
   ]
  },
  {
   "cell_type": "markdown",
   "metadata": {},
   "source": []
  }
 ],
 "metadata": {
  "kernelspec": {
   "display_name": "Python 3 (ipykernel)",
   "language": "python",
   "name": "python3"
  },
  "language_info": {
   "codemirror_mode": {
    "name": "ipython",
    "version": 3
   },
   "file_extension": ".py",
   "mimetype": "text/x-python",
   "name": "python",
   "nbconvert_exporter": "python",
   "pygments_lexer": "ipython3",
   "version": "3.10.4"
  }
 },
 "nbformat": 4,
 "nbformat_minor": 4
}
